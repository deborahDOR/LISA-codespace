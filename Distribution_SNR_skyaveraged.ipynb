{
 "cells": [
  {
   "cell_type": "code",
   "execution_count": 19,
   "id": "d2508dfb",
   "metadata": {},
   "outputs": [],
   "source": [
    "import numpy as np\n",
    "from matplotlib import pyplot as plt\n",
    "import superrad \n",
    "import gwaxion "
   ]
  },
  {
   "cell_type": "code",
   "execution_count": 10,
   "id": "e5495600",
   "metadata": {},
   "outputs": [],
   "source": [
    "Phi_s=10**(-3)\n",
    "logMass_s=8.4\n",
    "alpha=-1.19"
   ]
  },
  {
   "cell_type": "code",
   "execution_count": 11,
   "id": "fdd45b86",
   "metadata": {},
   "outputs": [],
   "source": [
    "beta2= 0.5116394637708428\n",
    "def Phi_2(M,z):\n",
    "    return (1/(z+1))**(beta2)*Phi_s*(M/10**(logMass_s))**(1+alpha)*np.exp(1-(M/10**(logMass_s)))\n",
    "    "
   ]
  },
  {
   "cell_type": "code",
   "execution_count": 3,
   "id": "22e6b1e7",
   "metadata": {},
   "outputs": [],
   "source": [
    "z_Pc=4.22e9\n",
    "d_source=[8e3,1*z_Pc,2*z_Pc,3*z_Pc,4*z_Pc]"
   ]
  },
  {
   "cell_type": "code",
   "execution_count": 4,
   "id": "438e7eb8",
   "metadata": {},
   "outputs": [
    {
     "name": "stdout",
     "output_type": "stream",
     "text": [
      "[0.5020445628910765, 0.5020445628910766, 0.5020445628910762, 0.5020445628910762, 0.5020445628910766]\n",
      "[8000.0, 4220000000.0, 8440000000.0, 12660000000.0, 16880000000.0]\n"
     ]
    }
   ],
   "source": [
    "G=6.6740e-11\n",
    "c=299792458.0\n",
    "t_rot=62e-6 #time or rotation for M=1msun\n",
    "\n",
    "\n",
    "#d_source=[0.1*z,0.2*z,0.3*z,0.4*z,0.5*z,0.6*z,0.7*z,0.8*z,0.9*z,1*z]\n",
    "mass_BH=10**(np.arange(5,10,1))\n",
    "chi=[]\n",
    "             \n",
    "def rg(M):\n",
    "    return (G*(M*2*10**30))/c**2\n",
    "            \n",
    "def J(M):\n",
    "    return M*2*10**30*(2*np.pi*rg(M)**2)/(t_rot*M)\n",
    "     \n",
    "def a(M):\n",
    "    return J(M)/(M*2*10**30*c)          \n",
    "             \n",
    "for i in range(len(mass_BH)):\n",
    "    chi.append((a(mass_BH[i])*c**2)/(G*mass_BH[i]*2*10**30))\n",
    " \n",
    "print(chi) \n",
    "print(d_source)"
   ]
  },
  {
   "cell_type": "code",
   "execution_count": 5,
   "id": "081c5694",
   "metadata": {},
   "outputs": [
    {
     "name": "stderr",
     "output_type": "stream",
     "text": [
      "/local/home/dd274198/Documents/lisaenv/lib/python3.9/site-packages/gwaxion/physics.py:267: RuntimeWarning: invalid value encountered in sqrt\n",
      "  self.rp_natural = 1 + np.sqrt(1 - self.chi**2)\n",
      "/local/home/dd274198/Documents/lisaenv/lib/python3.9/site-packages/gwaxion/physics.py:268: RuntimeWarning: invalid value encountered in sqrt\n",
      "  self.rm_natural = 1 - np.sqrt(1 - self.chi**2)\n",
      "/local/home/dd274198/Documents/lisaenv/lib/python3.9/site-packages/gwaxion/physics.py:267: RuntimeWarning: invalid value encountered in sqrt\n",
      "  self.rp_natural = 1 + np.sqrt(1 - self.chi**2)\n",
      "/local/home/dd274198/Documents/lisaenv/lib/python3.9/site-packages/gwaxion/physics.py:267: RuntimeWarning: invalid value encountered in sqrt\n",
      "  self.rp_natural = 1 + np.sqrt(1 - self.chi**2)\n",
      "/local/home/dd274198/Documents/lisaenv/lib/python3.9/site-packages/gwaxion/physics.py:267: RuntimeWarning: invalid value encountered in sqrt\n",
      "  self.rp_natural = 1 + np.sqrt(1 - self.chi**2)\n",
      "/local/home/dd274198/Documents/lisaenv/lib/python3.9/site-packages/gwaxion/physics.py:267: RuntimeWarning: invalid value encountered in sqrt\n",
      "  self.rp_natural = 1 + np.sqrt(1 - self.chi**2)\n",
      "/local/home/dd274198/Documents/lisaenv/lib/python3.9/site-packages/gwaxion/physics.py:268: RuntimeWarning: invalid value encountered in sqrt\n",
      "  self.rm_natural = 1 - np.sqrt(1 - self.chi**2)\n",
      "/local/home/dd274198/Documents/lisaenv/lib/python3.9/site-packages/gwaxion/physics.py:268: RuntimeWarning: invalid value encountered in sqrt\n",
      "  self.rm_natural = 1 - np.sqrt(1 - self.chi**2)\n",
      "/local/home/dd274198/Documents/lisaenv/lib/python3.9/site-packages/gwaxion/physics.py:268: RuntimeWarning: invalid value encountered in sqrt\n",
      "  self.rm_natural = 1 - np.sqrt(1 - self.chi**2)\n",
      "/local/home/dd274198/Documents/lisaenv/lib/python3.9/site-packages/gwaxion/physics.py:268: RuntimeWarning: invalid value encountered in sqrt\n",
      "  self.rm_natural = 1 - np.sqrt(1 - self.chi**2)\n",
      "/local/home/dd274198/Documents/lisaenv/lib/python3.9/site-packages/gwaxion/physics.py:267: RuntimeWarning: invalid value encountered in sqrt\n",
      "  self.rp_natural = 1 + np.sqrt(1 - self.chi**2)\n",
      "/local/home/dd274198/Documents/lisaenv/lib/python3.9/site-packages/gwaxion/physics.py:267: RuntimeWarning: invalid value encountered in sqrt\n",
      "  self.rp_natural = 1 + np.sqrt(1 - self.chi**2)\n",
      "/local/home/dd274198/Documents/lisaenv/lib/python3.9/site-packages/gwaxion/physics.py:267: RuntimeWarning: invalid value encountered in sqrt\n",
      "  self.rp_natural = 1 + np.sqrt(1 - self.chi**2)\n",
      "/local/home/dd274198/Documents/lisaenv/lib/python3.9/site-packages/gwaxion/physics.py:267: RuntimeWarning: invalid value encountered in sqrt\n",
      "  self.rp_natural = 1 + np.sqrt(1 - self.chi**2)\n",
      "/local/home/dd274198/Documents/lisaenv/lib/python3.9/site-packages/gwaxion/physics.py:267: RuntimeWarning: invalid value encountered in sqrt\n",
      "  self.rp_natural = 1 + np.sqrt(1 - self.chi**2)\n",
      "/local/home/dd274198/Documents/lisaenv/lib/python3.9/site-packages/gwaxion/physics.py:268: RuntimeWarning: invalid value encountered in sqrt\n",
      "  self.rm_natural = 1 - np.sqrt(1 - self.chi**2)\n",
      "/local/home/dd274198/Documents/lisaenv/lib/python3.9/site-packages/gwaxion/physics.py:267: RuntimeWarning: invalid value encountered in sqrt\n",
      "  self.rp_natural = 1 + np.sqrt(1 - self.chi**2)\n",
      "/local/home/dd274198/Documents/lisaenv/lib/python3.9/site-packages/gwaxion/physics.py:268: RuntimeWarning: invalid value encountered in sqrt\n",
      "  self.rm_natural = 1 - np.sqrt(1 - self.chi**2)\n",
      "/local/home/dd274198/Documents/lisaenv/lib/python3.9/site-packages/gwaxion/physics.py:268: RuntimeWarning: invalid value encountered in sqrt\n",
      "  self.rm_natural = 1 - np.sqrt(1 - self.chi**2)\n",
      "/local/home/dd274198/Documents/lisaenv/lib/python3.9/site-packages/gwaxion/physics.py:268: RuntimeWarning: invalid value encountered in sqrt\n",
      "  self.rm_natural = 1 - np.sqrt(1 - self.chi**2)\n",
      "/local/home/dd274198/Documents/lisaenv/lib/python3.9/site-packages/gwaxion/physics.py:268: RuntimeWarning: invalid value encountered in sqrt\n",
      "  self.rm_natural = 1 - np.sqrt(1 - self.chi**2)\n",
      "/local/home/dd274198/Documents/lisaenv/lib/python3.9/site-packages/gwaxion/physics.py:268: RuntimeWarning: invalid value encountered in sqrt\n",
      "  self.rm_natural = 1 - np.sqrt(1 - self.chi**2)\n",
      "/local/home/dd274198/Documents/lisaenv/lib/python3.9/site-packages/gwaxion/physics.py:267: RuntimeWarning: invalid value encountered in sqrt\n",
      "  self.rp_natural = 1 + np.sqrt(1 - self.chi**2)\n",
      "/local/home/dd274198/Documents/lisaenv/lib/python3.9/site-packages/gwaxion/physics.py:268: RuntimeWarning: invalid value encountered in sqrt\n",
      "  self.rm_natural = 1 - np.sqrt(1 - self.chi**2)\n",
      "/local/home/dd274198/Documents/lisaenv/lib/python3.9/site-packages/gwaxion/physics.py:267: RuntimeWarning: invalid value encountered in sqrt\n",
      "  self.rp_natural = 1 + np.sqrt(1 - self.chi**2)\n",
      "/local/home/dd274198/Documents/lisaenv/lib/python3.9/site-packages/gwaxion/physics.py:267: RuntimeWarning: invalid value encountered in sqrt\n",
      "  self.rp_natural = 1 + np.sqrt(1 - self.chi**2)\n",
      "/local/home/dd274198/Documents/lisaenv/lib/python3.9/site-packages/gwaxion/physics.py:267: RuntimeWarning: invalid value encountered in sqrt\n",
      "  self.rp_natural = 1 + np.sqrt(1 - self.chi**2)\n",
      "/local/home/dd274198/Documents/lisaenv/lib/python3.9/site-packages/gwaxion/physics.py:268: RuntimeWarning: invalid value encountered in sqrt\n",
      "  self.rm_natural = 1 - np.sqrt(1 - self.chi**2)\n",
      "/local/home/dd274198/Documents/lisaenv/lib/python3.9/site-packages/gwaxion/physics.py:267: RuntimeWarning: invalid value encountered in sqrt\n",
      "  self.rp_natural = 1 + np.sqrt(1 - self.chi**2)\n",
      "/local/home/dd274198/Documents/lisaenv/lib/python3.9/site-packages/gwaxion/physics.py:268: RuntimeWarning: invalid value encountered in sqrt\n",
      "  self.rm_natural = 1 - np.sqrt(1 - self.chi**2)\n",
      "/local/home/dd274198/Documents/lisaenv/lib/python3.9/site-packages/gwaxion/physics.py:268: RuntimeWarning: invalid value encountered in sqrt\n",
      "  self.rm_natural = 1 - np.sqrt(1 - self.chi**2)\n",
      "/local/home/dd274198/Documents/lisaenv/lib/python3.9/site-packages/gwaxion/physics.py:268: RuntimeWarning: invalid value encountered in sqrt\n",
      "  self.rm_natural = 1 - np.sqrt(1 - self.chi**2)\n",
      "/local/home/dd274198/Documents/lisaenv/lib/python3.9/site-packages/gwaxion/physics.py:267: RuntimeWarning: invalid value encountered in sqrt\n",
      "  self.rp_natural = 1 + np.sqrt(1 - self.chi**2)\n",
      "/local/home/dd274198/Documents/lisaenv/lib/python3.9/site-packages/gwaxion/physics.py:267: RuntimeWarning: invalid value encountered in sqrt\n",
      "  self.rp_natural = 1 + np.sqrt(1 - self.chi**2)\n",
      "/local/home/dd274198/Documents/lisaenv/lib/python3.9/site-packages/gwaxion/physics.py:267: RuntimeWarning: invalid value encountered in sqrt\n",
      "  self.rp_natural = 1 + np.sqrt(1 - self.chi**2)\n",
      "/local/home/dd274198/Documents/lisaenv/lib/python3.9/site-packages/gwaxion/physics.py:267: RuntimeWarning: invalid value encountered in sqrt\n",
      "  self.rp_natural = 1 + np.sqrt(1 - self.chi**2)\n",
      "/local/home/dd274198/Documents/lisaenv/lib/python3.9/site-packages/gwaxion/physics.py:267: RuntimeWarning: invalid value encountered in sqrt\n",
      "  self.rp_natural = 1 + np.sqrt(1 - self.chi**2)\n",
      "/local/home/dd274198/Documents/lisaenv/lib/python3.9/site-packages/gwaxion/physics.py:268: RuntimeWarning: invalid value encountered in sqrt\n",
      "  self.rm_natural = 1 - np.sqrt(1 - self.chi**2)\n",
      "/local/home/dd274198/Documents/lisaenv/lib/python3.9/site-packages/gwaxion/physics.py:267: RuntimeWarning: invalid value encountered in sqrt\n",
      "  self.rp_natural = 1 + np.sqrt(1 - self.chi**2)\n",
      "/local/home/dd274198/Documents/lisaenv/lib/python3.9/site-packages/gwaxion/physics.py:268: RuntimeWarning: invalid value encountered in sqrt\n",
      "  self.rm_natural = 1 - np.sqrt(1 - self.chi**2)\n",
      "/local/home/dd274198/Documents/lisaenv/lib/python3.9/site-packages/gwaxion/physics.py:268: RuntimeWarning: invalid value encountered in sqrt\n",
      "  self.rm_natural = 1 - np.sqrt(1 - self.chi**2)\n",
      "/local/home/dd274198/Documents/lisaenv/lib/python3.9/site-packages/gwaxion/physics.py:268: RuntimeWarning: invalid value encountered in sqrt\n",
      "  self.rm_natural = 1 - np.sqrt(1 - self.chi**2)\n",
      "/local/home/dd274198/Documents/lisaenv/lib/python3.9/site-packages/gwaxion/physics.py:268: RuntimeWarning: invalid value encountered in sqrt\n",
      "  self.rm_natural = 1 - np.sqrt(1 - self.chi**2)\n",
      "/local/home/dd274198/Documents/lisaenv/lib/python3.9/site-packages/gwaxion/physics.py:268: RuntimeWarning: invalid value encountered in sqrt\n",
      "  self.rm_natural = 1 - np.sqrt(1 - self.chi**2)\n"
     ]
    },
    {
     "name": "stderr",
     "output_type": "stream",
     "text": [
      "/local/home/dd274198/Documents/lisaenv/lib/python3.9/site-packages/gwaxion/physics.py:267: RuntimeWarning: invalid value encountered in sqrt\n",
      "  self.rp_natural = 1 + np.sqrt(1 - self.chi**2)\n",
      "/local/home/dd274198/Documents/lisaenv/lib/python3.9/site-packages/gwaxion/physics.py:268: RuntimeWarning: invalid value encountered in sqrt\n",
      "  self.rm_natural = 1 - np.sqrt(1 - self.chi**2)\n",
      "/local/home/dd274198/Documents/lisaenv/lib/python3.9/site-packages/gwaxion/physics.py:267: RuntimeWarning: invalid value encountered in sqrt\n",
      "  self.rp_natural = 1 + np.sqrt(1 - self.chi**2)\n",
      "/local/home/dd274198/Documents/lisaenv/lib/python3.9/site-packages/gwaxion/physics.py:267: RuntimeWarning: invalid value encountered in sqrt\n",
      "  self.rp_natural = 1 + np.sqrt(1 - self.chi**2)\n",
      "/local/home/dd274198/Documents/lisaenv/lib/python3.9/site-packages/gwaxion/physics.py:267: RuntimeWarning: invalid value encountered in sqrt\n",
      "  self.rp_natural = 1 + np.sqrt(1 - self.chi**2)\n",
      "/local/home/dd274198/Documents/lisaenv/lib/python3.9/site-packages/gwaxion/physics.py:267: RuntimeWarning: invalid value encountered in sqrt\n",
      "  self.rp_natural = 1 + np.sqrt(1 - self.chi**2)\n",
      "/local/home/dd274198/Documents/lisaenv/lib/python3.9/site-packages/gwaxion/physics.py:268: RuntimeWarning: invalid value encountered in sqrt\n",
      "  self.rm_natural = 1 - np.sqrt(1 - self.chi**2)\n",
      "/local/home/dd274198/Documents/lisaenv/lib/python3.9/site-packages/gwaxion/physics.py:268: RuntimeWarning: invalid value encountered in sqrt\n",
      "  self.rm_natural = 1 - np.sqrt(1 - self.chi**2)\n",
      "/local/home/dd274198/Documents/lisaenv/lib/python3.9/site-packages/gwaxion/physics.py:268: RuntimeWarning: invalid value encountered in sqrt\n",
      "  self.rm_natural = 1 - np.sqrt(1 - self.chi**2)\n",
      "/local/home/dd274198/Documents/lisaenv/lib/python3.9/site-packages/gwaxion/physics.py:268: RuntimeWarning: invalid value encountered in sqrt\n",
      "  self.rm_natural = 1 - np.sqrt(1 - self.chi**2)\n",
      "/local/home/dd274198/Documents/lisaenv/lib/python3.9/site-packages/gwaxion/physics.py:267: RuntimeWarning: invalid value encountered in sqrt\n",
      "  self.rp_natural = 1 + np.sqrt(1 - self.chi**2)\n",
      "/local/home/dd274198/Documents/lisaenv/lib/python3.9/site-packages/gwaxion/physics.py:267: RuntimeWarning: invalid value encountered in sqrt\n",
      "  self.rp_natural = 1 + np.sqrt(1 - self.chi**2)\n",
      "/local/home/dd274198/Documents/lisaenv/lib/python3.9/site-packages/gwaxion/physics.py:267: RuntimeWarning: invalid value encountered in sqrt\n",
      "  self.rp_natural = 1 + np.sqrt(1 - self.chi**2)\n",
      "/local/home/dd274198/Documents/lisaenv/lib/python3.9/site-packages/gwaxion/physics.py:267: RuntimeWarning: invalid value encountered in sqrt\n",
      "  self.rp_natural = 1 + np.sqrt(1 - self.chi**2)\n",
      "/local/home/dd274198/Documents/lisaenv/lib/python3.9/site-packages/gwaxion/physics.py:267: RuntimeWarning: invalid value encountered in sqrt\n",
      "  self.rp_natural = 1 + np.sqrt(1 - self.chi**2)\n",
      "/local/home/dd274198/Documents/lisaenv/lib/python3.9/site-packages/gwaxion/physics.py:267: RuntimeWarning: invalid value encountered in sqrt\n",
      "  self.rp_natural = 1 + np.sqrt(1 - self.chi**2)\n",
      "/local/home/dd274198/Documents/lisaenv/lib/python3.9/site-packages/gwaxion/physics.py:268: RuntimeWarning: invalid value encountered in sqrt\n",
      "  self.rm_natural = 1 - np.sqrt(1 - self.chi**2)\n",
      "/local/home/dd274198/Documents/lisaenv/lib/python3.9/site-packages/gwaxion/physics.py:268: RuntimeWarning: invalid value encountered in sqrt\n",
      "  self.rm_natural = 1 - np.sqrt(1 - self.chi**2)\n",
      "/local/home/dd274198/Documents/lisaenv/lib/python3.9/site-packages/gwaxion/physics.py:268: RuntimeWarning: invalid value encountered in sqrt\n",
      "  self.rm_natural = 1 - np.sqrt(1 - self.chi**2)\n",
      "/local/home/dd274198/Documents/lisaenv/lib/python3.9/site-packages/gwaxion/physics.py:268: RuntimeWarning: invalid value encountered in sqrt\n",
      "  self.rm_natural = 1 - np.sqrt(1 - self.chi**2)\n",
      "/local/home/dd274198/Documents/lisaenv/lib/python3.9/site-packages/gwaxion/physics.py:268: RuntimeWarning: invalid value encountered in sqrt\n",
      "  self.rm_natural = 1 - np.sqrt(1 - self.chi**2)\n",
      "/local/home/dd274198/Documents/lisaenv/lib/python3.9/site-packages/gwaxion/physics.py:268: RuntimeWarning: invalid value encountered in sqrt\n",
      "  self.rm_natural = 1 - np.sqrt(1 - self.chi**2)\n",
      "/local/home/dd274198/Documents/lisaenv/lib/python3.9/site-packages/gwaxion/physics.py:267: RuntimeWarning: invalid value encountered in sqrt\n",
      "  self.rp_natural = 1 + np.sqrt(1 - self.chi**2)\n",
      "/local/home/dd274198/Documents/lisaenv/lib/python3.9/site-packages/gwaxion/physics.py:268: RuntimeWarning: invalid value encountered in sqrt\n",
      "  self.rm_natural = 1 - np.sqrt(1 - self.chi**2)\n",
      "/local/home/dd274198/Documents/lisaenv/lib/python3.9/site-packages/gwaxion/physics.py:267: RuntimeWarning: invalid value encountered in sqrt\n",
      "  self.rp_natural = 1 + np.sqrt(1 - self.chi**2)\n",
      "/local/home/dd274198/Documents/lisaenv/lib/python3.9/site-packages/gwaxion/physics.py:267: RuntimeWarning: invalid value encountered in sqrt\n",
      "  self.rp_natural = 1 + np.sqrt(1 - self.chi**2)\n",
      "/local/home/dd274198/Documents/lisaenv/lib/python3.9/site-packages/gwaxion/physics.py:267: RuntimeWarning: invalid value encountered in sqrt\n",
      "  self.rp_natural = 1 + np.sqrt(1 - self.chi**2)\n",
      "/local/home/dd274198/Documents/lisaenv/lib/python3.9/site-packages/gwaxion/physics.py:267: RuntimeWarning: invalid value encountered in sqrt\n",
      "  self.rp_natural = 1 + np.sqrt(1 - self.chi**2)\n",
      "/local/home/dd274198/Documents/lisaenv/lib/python3.9/site-packages/gwaxion/physics.py:268: RuntimeWarning: invalid value encountered in sqrt\n",
      "  self.rm_natural = 1 - np.sqrt(1 - self.chi**2)\n",
      "/local/home/dd274198/Documents/lisaenv/lib/python3.9/site-packages/gwaxion/physics.py:268: RuntimeWarning: invalid value encountered in sqrt\n",
      "  self.rm_natural = 1 - np.sqrt(1 - self.chi**2)\n",
      "/local/home/dd274198/Documents/lisaenv/lib/python3.9/site-packages/gwaxion/physics.py:268: RuntimeWarning: invalid value encountered in sqrt\n",
      "  self.rm_natural = 1 - np.sqrt(1 - self.chi**2)\n",
      "/local/home/dd274198/Documents/lisaenv/lib/python3.9/site-packages/gwaxion/physics.py:268: RuntimeWarning: invalid value encountered in sqrt\n",
      "  self.rm_natural = 1 - np.sqrt(1 - self.chi**2)\n",
      "/local/home/dd274198/Documents/lisaenv/lib/python3.9/site-packages/gwaxion/physics.py:267: RuntimeWarning: invalid value encountered in sqrt\n",
      "  self.rp_natural = 1 + np.sqrt(1 - self.chi**2)\n",
      "/local/home/dd274198/Documents/lisaenv/lib/python3.9/site-packages/gwaxion/physics.py:267: RuntimeWarning: invalid value encountered in sqrt\n",
      "  self.rp_natural = 1 + np.sqrt(1 - self.chi**2)\n",
      "/local/home/dd274198/Documents/lisaenv/lib/python3.9/site-packages/gwaxion/physics.py:267: RuntimeWarning: invalid value encountered in sqrt\n",
      "  self.rp_natural = 1 + np.sqrt(1 - self.chi**2)\n",
      "/local/home/dd274198/Documents/lisaenv/lib/python3.9/site-packages/gwaxion/physics.py:267: RuntimeWarning: invalid value encountered in sqrt\n",
      "  self.rp_natural = 1 + np.sqrt(1 - self.chi**2)\n",
      "/local/home/dd274198/Documents/lisaenv/lib/python3.9/site-packages/gwaxion/physics.py:267: RuntimeWarning: invalid value encountered in sqrt\n",
      "  self.rp_natural = 1 + np.sqrt(1 - self.chi**2)\n",
      "/local/home/dd274198/Documents/lisaenv/lib/python3.9/site-packages/gwaxion/physics.py:268: RuntimeWarning: invalid value encountered in sqrt\n",
      "  self.rm_natural = 1 - np.sqrt(1 - self.chi**2)\n",
      "/local/home/dd274198/Documents/lisaenv/lib/python3.9/site-packages/gwaxion/physics.py:268: RuntimeWarning: invalid value encountered in sqrt\n",
      "  self.rm_natural = 1 - np.sqrt(1 - self.chi**2)\n",
      "/local/home/dd274198/Documents/lisaenv/lib/python3.9/site-packages/gwaxion/physics.py:267: RuntimeWarning: invalid value encountered in sqrt\n",
      "  self.rp_natural = 1 + np.sqrt(1 - self.chi**2)\n",
      "/local/home/dd274198/Documents/lisaenv/lib/python3.9/site-packages/gwaxion/physics.py:268: RuntimeWarning: invalid value encountered in sqrt\n",
      "  self.rm_natural = 1 - np.sqrt(1 - self.chi**2)\n",
      "/local/home/dd274198/Documents/lisaenv/lib/python3.9/site-packages/gwaxion/physics.py:268: RuntimeWarning: invalid value encountered in sqrt\n",
      "  self.rm_natural = 1 - np.sqrt(1 - self.chi**2)\n",
      "/local/home/dd274198/Documents/lisaenv/lib/python3.9/site-packages/gwaxion/physics.py:268: RuntimeWarning: invalid value encountered in sqrt\n",
      "  self.rm_natural = 1 - np.sqrt(1 - self.chi**2)\n",
      "/local/home/dd274198/Documents/lisaenv/lib/python3.9/site-packages/gwaxion/physics.py:268: RuntimeWarning: invalid value encountered in sqrt\n",
      "  self.rm_natural = 1 - np.sqrt(1 - self.chi**2)\n"
     ]
    },
    {
     "name": "stderr",
     "output_type": "stream",
     "text": [
      "/local/home/dd274198/Documents/lisaenv/lib/python3.9/site-packages/gwaxion/physics.py:267: RuntimeWarning: invalid value encountered in sqrt\n",
      "  self.rp_natural = 1 + np.sqrt(1 - self.chi**2)\n",
      "/local/home/dd274198/Documents/lisaenv/lib/python3.9/site-packages/gwaxion/physics.py:268: RuntimeWarning: invalid value encountered in sqrt\n",
      "  self.rm_natural = 1 - np.sqrt(1 - self.chi**2)\n",
      "/local/home/dd274198/Documents/lisaenv/lib/python3.9/site-packages/gwaxion/physics.py:267: RuntimeWarning: invalid value encountered in sqrt\n",
      "  self.rp_natural = 1 + np.sqrt(1 - self.chi**2)\n",
      "/local/home/dd274198/Documents/lisaenv/lib/python3.9/site-packages/gwaxion/physics.py:267: RuntimeWarning: invalid value encountered in sqrt\n",
      "  self.rp_natural = 1 + np.sqrt(1 - self.chi**2)\n",
      "/local/home/dd274198/Documents/lisaenv/lib/python3.9/site-packages/gwaxion/physics.py:268: RuntimeWarning: invalid value encountered in sqrt\n",
      "  self.rm_natural = 1 - np.sqrt(1 - self.chi**2)\n",
      "/local/home/dd274198/Documents/lisaenv/lib/python3.9/site-packages/gwaxion/physics.py:267: RuntimeWarning: invalid value encountered in sqrt\n",
      "  self.rp_natural = 1 + np.sqrt(1 - self.chi**2)\n",
      "/local/home/dd274198/Documents/lisaenv/lib/python3.9/site-packages/gwaxion/physics.py:267: RuntimeWarning: invalid value encountered in sqrt\n",
      "  self.rp_natural = 1 + np.sqrt(1 - self.chi**2)\n",
      "/local/home/dd274198/Documents/lisaenv/lib/python3.9/site-packages/gwaxion/physics.py:268: RuntimeWarning: invalid value encountered in sqrt\n",
      "  self.rm_natural = 1 - np.sqrt(1 - self.chi**2)\n",
      "/local/home/dd274198/Documents/lisaenv/lib/python3.9/site-packages/gwaxion/physics.py:268: RuntimeWarning: invalid value encountered in sqrt\n",
      "  self.rm_natural = 1 - np.sqrt(1 - self.chi**2)\n",
      "/local/home/dd274198/Documents/lisaenv/lib/python3.9/site-packages/gwaxion/physics.py:268: RuntimeWarning: invalid value encountered in sqrt\n",
      "  self.rm_natural = 1 - np.sqrt(1 - self.chi**2)\n",
      "/local/home/dd274198/Documents/lisaenv/lib/python3.9/site-packages/gwaxion/physics.py:267: RuntimeWarning: invalid value encountered in sqrt\n",
      "  self.rp_natural = 1 + np.sqrt(1 - self.chi**2)\n",
      "/local/home/dd274198/Documents/lisaenv/lib/python3.9/site-packages/gwaxion/physics.py:267: RuntimeWarning: invalid value encountered in sqrt\n",
      "  self.rp_natural = 1 + np.sqrt(1 - self.chi**2)\n",
      "/local/home/dd274198/Documents/lisaenv/lib/python3.9/site-packages/gwaxion/physics.py:267: RuntimeWarning: invalid value encountered in sqrt\n",
      "  self.rp_natural = 1 + np.sqrt(1 - self.chi**2)\n",
      "/local/home/dd274198/Documents/lisaenv/lib/python3.9/site-packages/gwaxion/physics.py:267: RuntimeWarning: invalid value encountered in sqrt\n",
      "  self.rp_natural = 1 + np.sqrt(1 - self.chi**2)\n",
      "/local/home/dd274198/Documents/lisaenv/lib/python3.9/site-packages/gwaxion/physics.py:267: RuntimeWarning: invalid value encountered in sqrt\n",
      "  self.rp_natural = 1 + np.sqrt(1 - self.chi**2)\n",
      "/local/home/dd274198/Documents/lisaenv/lib/python3.9/site-packages/gwaxion/physics.py:267: RuntimeWarning: invalid value encountered in sqrt\n",
      "  self.rp_natural = 1 + np.sqrt(1 - self.chi**2)\n",
      "/local/home/dd274198/Documents/lisaenv/lib/python3.9/site-packages/gwaxion/physics.py:268: RuntimeWarning: invalid value encountered in sqrt\n",
      "  self.rm_natural = 1 - np.sqrt(1 - self.chi**2)\n",
      "/local/home/dd274198/Documents/lisaenv/lib/python3.9/site-packages/gwaxion/physics.py:268: RuntimeWarning: invalid value encountered in sqrt\n",
      "  self.rm_natural = 1 - np.sqrt(1 - self.chi**2)\n",
      "/local/home/dd274198/Documents/lisaenv/lib/python3.9/site-packages/gwaxion/physics.py:268: RuntimeWarning: invalid value encountered in sqrt\n",
      "  self.rm_natural = 1 - np.sqrt(1 - self.chi**2)\n",
      "/local/home/dd274198/Documents/lisaenv/lib/python3.9/site-packages/gwaxion/physics.py:268: RuntimeWarning: invalid value encountered in sqrt\n",
      "  self.rm_natural = 1 - np.sqrt(1 - self.chi**2)\n",
      "/local/home/dd274198/Documents/lisaenv/lib/python3.9/site-packages/gwaxion/physics.py:268: RuntimeWarning: invalid value encountered in sqrt\n",
      "  self.rm_natural = 1 - np.sqrt(1 - self.chi**2)\n",
      "/local/home/dd274198/Documents/lisaenv/lib/python3.9/site-packages/gwaxion/physics.py:268: RuntimeWarning: invalid value encountered in sqrt\n",
      "  self.rm_natural = 1 - np.sqrt(1 - self.chi**2)\n"
     ]
    }
   ],
   "source": [
    "\n",
    "import multiprocessing\n",
    "from functools import partial\n",
    "\n",
    "def get_peak(a, lgw=2, **kwargs): \n",
    "    cloud = gwaxion.BosonCloud.from_parameters(1, 1, 0, alpha=a, evolve_params={'y_0': 1E-8}, **kwargs) \n",
    "    return cloud.gw(lgw).h0r, cloud.gw(lgw).f\n",
    "\n",
    "alpha_best_dfixed=[]\n",
    "\n",
    "\n",
    "alphas = np.arange(0.01, 0.25, 0.001)\n",
    "\n",
    "for d in range (len(d_source)):\n",
    "    distance =  d_source[d]* gwaxion.PC_SI\n",
    "    for b in range (len(mass_BH)):\n",
    "        bh = gwaxion.BlackHole(mass=mass_BH[b], chi=chi[b], msun=True)\n",
    "        # collect peak values\n",
    "        pool = multiprocessing.Pool(8)\n",
    "        h0r_fs = pool.map(partial(get_peak, m_bh=bh.mass_msun, chi_bh=bh.chi), alphas)\n",
    "        h0rs_num, fgws_num = np.array(h0r_fs).T\n",
    "        \n",
    "        # h0rs are the amplitudes 1m away from the source, so rescale by actual distance\n",
    "        h0s_num = h0rs_num / distance\n",
    "    \n",
    "        best = max(zip(h0s_num, alphas))\n",
    "        alpha_best_dfixed.append(best[1])\n",
    "\n",
    "        \n",
    "alpha_bestd_tot=[]\n",
    "for i in range(len(d_source)):\n",
    "    alpha_bestd_tot.append([])\n",
    "\n",
    "for i in range(len(mass_BH)):\n",
    "     alpha_bestd_tot[i]= alpha_best_dfixed[0+len(mass_BH)*i:(i+1)*len(mass_BH)]"
   ]
  },
  {
   "cell_type": "code",
   "execution_count": 6,
   "id": "6ec134a9",
   "metadata": {},
   "outputs": [
    {
     "name": "stdout",
     "output_type": "stream",
     "text": [
      "[0.11699999999999991, 0.11699999999999991, 0.11499999999999991, 0.1189999999999999, 0.10999999999999992]\n"
     ]
    }
   ],
   "source": [
    "print(alpha_bestd_tot[0])"
   ]
  },
  {
   "cell_type": "code",
   "execution_count": 7,
   "id": "573cc802",
   "metadata": {},
   "outputs": [
    {
     "name": "stderr",
     "output_type": "stream",
     "text": [
      "/local/home/dd274198/Documents/lisaenv/lib/python3.9/site-packages/gwaxion/physics.py:267: RuntimeWarning: invalid value encountered in sqrt\n",
      "  self.rp_natural = 1 + np.sqrt(1 - self.chi**2)\n",
      "/local/home/dd274198/Documents/lisaenv/lib/python3.9/site-packages/gwaxion/physics.py:268: RuntimeWarning: invalid value encountered in sqrt\n",
      "  self.rm_natural = 1 - np.sqrt(1 - self.chi**2)\n"
     ]
    },
    {
     "name": "stdout",
     "output_type": "stream",
     "text": [
      "[[278.1857460378243, 8409.58205604542, 4562.99498307736, 198.37713908454822, 3.4864727941457905], [0.000527366343199667, 0.01594233565127094, 0.008650227456070827, 0.0003760704058474848, 6.609427097906713e-06], [0.0002636831715998335, 0.00797116782563547, 0.004325113728035413, 0.0001880352029237424, 3.3047135489533567e-06], [0.00017578878106655566, 0.005314111883756979, 0.002883409152023609, 0.00012535680194916156, 2.203142365968904e-06], [0.00013184158579991674, 0.003985583912817735, 0.0021625568640177067, 9.40176014618712e-05, 1.6523567744766783e-06]]\n"
     ]
    }
   ],
   "source": [
    "import ldc\n",
    "from ldc.lisa.noise import get_noise_model\n",
    "from ldc.lisa.noise import NumericNoise\n",
    "AddLDC = True\n",
    "\n",
    "Tobs=3.0e7\n",
    "L_m = 2.5e9\n",
    "L = L_m/c\n",
    "\n",
    "import ldc\n",
    "from ldc.lisa.noise import get_noise_model\n",
    "from ldc.lisa.noise import NumericNoise\n",
    "AddLDC = True\n",
    "\n",
    "\n",
    "def SNRc_theo(h0,Tobs,Sh_theo):\n",
    "    return 5*((2/5*h0)**2*Tobs/Sh_theo)\n",
    "\n",
    "SNR_theo_d=[]\n",
    "for d in range (len(d_source)):\n",
    "    distance =  d_source[d]* gwaxion.PC_SI\n",
    "    for b in range (len(mass_BH)):\n",
    "        \n",
    "        bhb = gwaxion.BlackHoleBoson.from_parameters(m_bh=mass_BH[b], alpha=alpha_bestd_tot[0][b], chi_bh=chi[b])\n",
    "        bh = gwaxion.BlackHole(mass=mass_BH[b], chi=chi[b], msun=True)\n",
    "        cloud = bhb.best_cloud()\n",
    "        fgw=cloud.fgw\n",
    "        h0 = bh.h0r_fit(fgw)/distance\n",
    "        #print('GW frequency=',fgw)\n",
    "        #print('h0= ',h0)\n",
    "    \n",
    "    \n",
    "        omegaL = 2*np.pi*fgw*L\n",
    "        PSD_fX2 = get_noise_model(\"SciRDv1\",fgw).psd(option='X',tdi2=True)\n",
    "        S_theoX2=(20/3)*(1+0.6*(omegaL)**2)*(PSD_fX2/((4*omegaL)**2*(np.sin(omegaL)**2)*(2*np.sin(2*omegaL))**2))\n",
    "        SNR_theo_d.append(np.sqrt(SNRc_theo(h0,Tobs,S_theoX2)))\n",
    "\n",
    "SNR_theo_dtot=[]\n",
    "\n",
    "for i in range(len(d_source)):\n",
    "    SNR_theo_dtot.append(SNR_theo_d)\n",
    "    SNR_theo_dtot[i]=SNR_theo_d[0+len(mass_BH)*i:(i+1)*len(mass_BH)]\n",
    "\n",
    "print(SNR_theo_dtot)"
   ]
  },
  {
   "cell_type": "code",
   "execution_count": 8,
   "id": "f17d380b",
   "metadata": {},
   "outputs": [
    {
     "name": "stdout",
     "output_type": "stream",
     "text": [
      "[1.895734597156398e-06, 1.0, 2.0, 3.0, 4.0]\n"
     ]
    }
   ],
   "source": [
    "z_Pc=4.22e9\n",
    "dz_source=[]\n",
    "\n",
    "for i in (range(len(d_source))):\n",
    "    dz_source.append((d_source[i]*1)/z_Pc)\n",
    "    \n",
    "print(dz_source)\n",
    "    "
   ]
  },
  {
   "cell_type": "code",
   "execution_count": 12,
   "id": "b8526fd7",
   "metadata": {},
   "outputs": [
    {
     "name": "stdout",
     "output_type": "stream",
     "text": [
      "[0.01202599904218337, 0.007736866500769718, 0.004819527758026175, 0.0021746947863577064, 3.9024431664044174e-05, 0.00843534327040374, 0.005426836019390801, 0.0033805400198010623, 0.0015253865368638924, 2.7372734345308986e-05, 0.006855001011956506, 0.004410130709815845, 0.0027472035830483276, 0.001239608859845052, 2.224451520490745e-05, 0.005916759748980823, 0.003806517873019997, 0.0023711949209175944, 0.0010699440880633597, 1.91999172531739e-05, 0.005278383589063827, 0.0033958217546162565, 0.002115359907793933, 0.0009545047551782562, 1.7128383175942442e-05]\n"
     ]
    }
   ],
   "source": [
    "Phi_tot=[] \n",
    "\n",
    "for d in (dz_source):\n",
    "    for M in (mass_BH):\n",
    "        Phi_tot.append(Phi_2(M,d))\n",
    "    \n",
    "print(Phi_tot)"
   ]
  },
  {
   "cell_type": "code",
   "execution_count": 13,
   "id": "02efde65",
   "metadata": {},
   "outputs": [
    {
     "name": "stdout",
     "output_type": "stream",
     "text": [
      "[[3.345461515399941, 65.06381369489193, 21.991480980675515, 0.4314097300997246, 0.00013605761930369156], [4.44851613414674e-06, 8.651644134553523e-05, 2.9242440095629365e-05, 5.736527339926934e-07, 1.8091809212568698e-10], [1.8075484081527595e-06, 3.515389202093098e-05, 1.1881967930750398e-05, 2.3309010350703332e-07, 7.35117507875566e-11], [1.0400999841369988e-06, 2.0228261864748906e-05, 6.837125136205689e-06, 1.3412476914403486e-07, 4.230015112356473e-11], [6.959104628424309e-07, 1.3534332555995045e-05, 4.574586088467633e-06, 8.974024766581023e-08, 2.8302199976600856e-11]]\n"
     ]
    }
   ],
   "source": [
    "dist_SNR=[]\n",
    "for i in range(len(Phi_tot)):\n",
    "    dist_SNR.append(SNR_theo_d[i]*Phi_tot[i])\n",
    "    \n",
    "dist_SNR_dtot=[]\n",
    "\n",
    "for i in range(len(d_source)):\n",
    "    dist_SNR_dtot.append(dist_SNR)\n",
    "    dist_SNR_dtot[i]=dist_SNR[0+(len(mass_BH))*i:(i+1)*(len(mass_BH))]\n",
    "\n",
    "print(dist_SNR_dtot)\n"
   ]
  },
  {
   "cell_type": "code",
   "execution_count": 14,
   "id": "d2b307dd",
   "metadata": {},
   "outputs": [
    {
     "name": "stdout",
     "output_type": "stream",
     "text": [
      "SNR_moy= 90.83251897074135\n"
     ]
    }
   ],
   "source": [
    "dmin=dz_source[0]\n",
    "dmax=dz_source[4]\n",
    "N=len(d_source)\n",
    "\n",
    "SNR_moyen=np.sum(dist_SNR)\n",
    "print('SNR_moy=',SNR_moyen)"
   ]
  },
  {
   "cell_type": "code",
   "execution_count": 18,
   "id": "08d71779",
   "metadata": {},
   "outputs": [
    {
     "name": "stdout",
     "output_type": "stream",
     "text": [
      "[72.66580714416166, 9.662493918808517e-05, 3.926123897284249e-05, 2.259171253653156e-05, 1.511567096190822e-05]\n",
      "[105.91840463906551, 0.0001408414742692497, 5.722757318179316e-05, 3.292990532929152e-05, 2.203275262818026e-05]\n",
      "SNR_moy= 14.533196147544663\n",
      "SNR_moy= 21.183731534154184\n"
     ]
    }
   ],
   "source": [
    "from scipy import integrate as intg\n",
    "SNR_ind=[]\n",
    "SNR_indbis=[]\n",
    "I3=[]\n",
    "x=d_source\n",
    "\n",
    "for i in range(len(dz_source)):\n",
    "    SNR_ind.append(np.sum(dist_SNR_dtot[i])*(dmax-dmin)/N)\n",
    "    I3.append(intg.romb(dist_SNR_dtot[i]))\n",
    "\n",
    "print(SNR_ind)\n",
    "print(I3)\n",
    "SNR_tot=np.mean(SNR_ind)\n",
    "print('SNR_moy=',SNR_tot)\n",
    "print('SNR_moy=',np.mean(I3))\n",
    "    "
   ]
  },
  {
   "cell_type": "code",
   "execution_count": null,
   "id": "880e54f6",
   "metadata": {},
   "outputs": [],
   "source": []
  }
 ],
 "metadata": {
  "kernelspec": {
   "display_name": "lisaenv",
   "language": "python",
   "name": "lisaenv"
  },
  "language_info": {
   "codemirror_mode": {
    "name": "ipython",
    "version": 3
   },
   "file_extension": ".py",
   "mimetype": "text/x-python",
   "name": "python",
   "nbconvert_exporter": "python",
   "pygments_lexer": "ipython3",
   "version": "3.9.16"
  }
 },
 "nbformat": 4,
 "nbformat_minor": 5
}
